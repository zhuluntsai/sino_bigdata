{
 "cells": [
  {
   "cell_type": "code",
   "execution_count": 1,
   "id": "1e08af08",
   "metadata": {},
   "outputs": [],
   "source": [
    "import docx\n",
    "import xlsxwriter\n",
    "import xml.etree.ElementTree as ET\n",
    "import os\n",
    "import shutil\n",
    "import re\n",
    "import xlrd\n",
    "import csv\n",
    "from copy import deepcopy\n",
    "import ast"
   ]
  },
  {
   "cell_type": "code",
   "execution_count": 2,
   "id": "071b0437",
   "metadata": {},
   "outputs": [
    {
     "name": "stdout",
     "output_type": "stream",
     "text": [
      "read worddata/02-2.LG09站地下擋土壁及支撐系統0080B_修改換行符.docx\n",
      "read exceldata/CQ881標LG09站地工數量-1100330開發用.xls\n",
      "Created tree.xml\n"
     ]
    }
   ],
   "source": [
    "directory_name = 'data'\n",
    "wordName = ''\n",
    "excelName = ''\n",
    "schemaName = 'data/schema.xml'\n",
    "treeName = 'tree.xml'\n",
    "\n",
    "for file_name in os.listdir(directory_name):\n",
    "    i = os.path.join(directory_name, file_name)\n",
    "    if os.path.isfile(i):\n",
    "        if(file_name.split('.')[-1] == 'docx'):\n",
    "            print('read word'+i)\n",
    "            wordName = i\n",
    "        elif(file_name.split('.')[-1] == 'xls'):\n",
    "            print('read excel'+i)\n",
    "            excelName = i\n",
    "doc = docx.Document(wordName)\n",
    "excel = xlrd.open_workbook(excelName)\n",
    "#複製schema為tree\n",
    "shutil.copy(schemaName, treeName)\n",
    "print('Created tree.xml')\n",
    "#讀取tree\n",
    "tree = ET.parse(treeName)\n",
    "root = tree.getroot()"
   ]
  },
  {
   "cell_type": "code",
   "execution_count": 3,
   "id": "6782e4d2",
   "metadata": {},
   "outputs": [],
   "source": [
    "designFile = root[0]\n",
    "num_workItemType = len(designFile.findall('WorkItemType'))"
   ]
  },
  {
   "cell_type": "code",
   "execution_count": 4,
   "id": "0c2fe51a",
   "metadata": {},
   "outputs": [],
   "source": [
    "#找混凝土強度\n",
    "arr = []\n",
    "for paragraph in doc.paragraphs:\n",
    "    if paragraph.text.find(\"混凝土強度\")!=-1:\n",
    "        arr.append(re.sub('[^0-9]', '', paragraph.text))\n",
    "        #print(re.sub('[^0-9]', '', paragraph.text))\n",
    "for i in range(len(arr)):\n",
    "    if i%(len(arr)/num_workItemType)==0:\n",
    "        #print(arr[i])\n",
    "        value = designFile[int(i/(len(arr)/num_workItemType))].find('Concrete/Strength/Value')\n",
    "        #print('設計', value.get('unit'), value.text)\n",
    "        value.text = arr[i]"
   ]
  },
  {
   "cell_type": "code",
   "execution_count": 5,
   "id": "e6abe883",
   "metadata": {},
   "outputs": [],
   "source": [
    "#找擋土壁深度\n",
    "arr = []\n",
    "for paragraph in doc.paragraphs:\n",
    "    if paragraph.text.find(\"結論：連續壁深度採用\")!=-1:\n",
    "        arr.append(re.sub('[^0-9]', '', paragraph.text))\n",
    "        #print(re.sub('[^0-9]', '', paragraph.text))\n",
    "for i in range(len(arr)):\n",
    "    if i%(len(arr)/num_workItemType)==0:\n",
    "        #print(arr[i])\n",
    "        value = designFile[int(i/(len(arr)/num_workItemType))].find('Concrete/Depth/Value')\n",
    "        #print('設計', value.get('unit'), value.text)\n",
    "        value.text = arr[i]\n",
    "\n",
    "# for paragraph in doc.paragraphs:\n",
    "#     if paragraph.text.find(\"結論：連續壁深度採用\")!=-1:\n",
    "#         print(paragraph.text)"
   ]
  },
  {
   "cell_type": "code",
   "execution_count": 6,
   "id": "d4a30f00",
   "metadata": {},
   "outputs": [],
   "source": [
    "#找擋土壁厚度\n",
    "arr = []\n",
    "for paragraph in doc.paragraphs:\n",
    "    if paragraph.text.find(\"擋土壁厚度\")!=-1:\n",
    "        arr.append(re.sub('[^0-9.]', '', paragraph.text))\n",
    "        #print(re.sub('[^0-9]', '', paragraph.text))\n",
    "for i in range(len(arr)):\n",
    "    if i%(len(arr)/num_workItemType)==0:\n",
    "        #print(arr[i])\n",
    "        value = designFile[int(i/(len(arr)/num_workItemType))].find('Concrete/Thickness/Value')\n",
    "        #print('設計', value.get('unit'), value.text)\n",
    "        value.text = arr[i]"
   ]
  },
  {
   "cell_type": "code",
   "execution_count": 7,
   "id": "d1fd4c62",
   "metadata": {},
   "outputs": [
    {
     "name": "stdout",
     "output_type": "stream",
     "text": [
      "設計 m 26.75\n",
      "設計 m 26.75\n",
      "設計 m 21\n"
     ]
    }
   ],
   "source": [
    "#找中間柱長度\n",
    "arr = []\n",
    "for paragraph in doc.paragraphs:\n",
    "    if paragraph.text.find(\"中間柱長度\")!=-1:\n",
    "        arr.append(re.sub('[^0-9.]', '', paragraph.text))\n",
    "        #print(re.sub('[^0-9]', '', paragraph.text))\n",
    "for i in range(len(arr)):\n",
    "    if i%(len(arr)/num_workItemType)==0:\n",
    "        #print(arr[i])\n",
    "        value = designFile[int(i/(len(arr)/num_workItemType))].find('MiddleColumn/Length/Value')\n",
    "        value.text = arr[i]\n",
    "        print('設計', value.get('unit'), value.text)"
   ]
  },
  {
   "cell_type": "code",
   "execution_count": 8,
   "id": "612bfae1",
   "metadata": {},
   "outputs": [
    {
     "name": "stdout",
     "output_type": "stream",
     "text": [
      "設計 m 21.75\n",
      "設計 m 21.75\n",
      "設計 m 13.55\n"
     ]
    }
   ],
   "source": [
    "#找開挖深度\n",
    "arr = []\n",
    "for paragraph in doc.paragraphs:\n",
    "    if paragraph.text.find(\"開挖深度\")!=-1:\n",
    "        arr.append(re.sub('[^0-9.]', '', paragraph.text))\n",
    "        #print(re.sub('[^0-9]', '', paragraph.text))\n",
    "for i in range(len(arr)):\n",
    "    if i%(len(arr)/num_workItemType)==1: #這邊特別用了1\n",
    "        #print(arr[i])\n",
    "        value = designFile[int(i/(len(arr)/num_workItemType))].find('MiddleColumn/Depth/Value')\n",
    "        value.text = arr[i]\n",
    "        print('設計', value.get('unit'), value.text)"
   ]
  },
  {
   "cell_type": "code",
   "execution_count": 9,
   "id": "c96fdcf1",
   "metadata": {
    "scrolled": true
   },
   "outputs": [
    {
     "name": "stdout",
     "output_type": "stream",
     "text": [
      "設計 H400x400x13x21\n",
      "設計 H400x400x13x21\n",
      "設計 H400x400x13x21\n"
     ]
    }
   ],
   "source": [
    "#找型鋼尺寸\n",
    "arr = []\n",
    "for paragraph in doc.paragraphs:\n",
    "    if paragraph.text.find(\"型鋼尺寸\")!=-1:\n",
    "        textP = paragraph.text\n",
    "        arr.append(textP[textP.find('=')+2:])\n",
    "#         print(re.sub('[^0-9]', '', paragraph.text))\n",
    "for i in range(len(arr)):\n",
    "    if i%(len(arr)/num_workItemType)==0:\n",
    "#         print(arr[i])\n",
    "        value = designFile[int(i/(len(arr)/num_workItemType))].find('MiddleColumn/Steel/Type/Value')\n",
    "        value.text = arr[i]\n",
    "        print('設計', value.text)"
   ]
  },
  {
   "cell_type": "code",
   "execution_count": 10,
   "id": "e7ffda64",
   "metadata": {},
   "outputs": [
    {
     "name": "stdout",
     "output_type": "stream",
     "text": [
      "設計 m 24.25\n",
      "設計 m 24.25\n",
      "設計 m 16.05\n"
     ]
    }
   ],
   "source": [
    "#找型鋼長度\n",
    "arr = []\n",
    "for paragraph in doc.paragraphs:\n",
    "    if paragraph.text.find(\"型鋼長度\")!=-1:\n",
    "        arr.append(re.sub('[^0-9.]', '', paragraph.text))\n",
    "        #print(re.sub('[^0-9]', '', paragraph.text))\n",
    "for i in range(len(arr)):\n",
    "    if i%(len(arr)/num_workItemType)==0:\n",
    "        #print(arr[i])\n",
    "        value = designFile[int(i/(len(arr)/num_workItemType))].find('MiddleColumn/Steel/Length/Value')\n",
    "        value.text = arr[i]\n",
    "        print('設計', value.get('unit'), value.text)"
   ]
  },
  {
   "cell_type": "code",
   "execution_count": 11,
   "id": "c3d31991",
   "metadata": {},
   "outputs": [
    {
     "name": "stdout",
     "output_type": "stream",
     "text": [
      "設計 cm 100\n",
      "設計 cm 100\n",
      "設計 cm 100\n"
     ]
    }
   ],
   "source": [
    "#找鑽掘樁直徑\n",
    "arr = []\n",
    "for paragraph in doc.paragraphs:\n",
    "    if paragraph.text.find(\"鑽掘樁直徑\")!=-1:\n",
    "        arr.append(re.sub('[^0-9.]', '', paragraph.text))\n",
    "        #print(re.sub('[^0-9]', '', paragraph.text))\n",
    "for i in range(len(arr)):\n",
    "    if i%(len(arr)/num_workItemType)==0:\n",
    "        #print(arr[i])\n",
    "        value = designFile[int(i/(len(arr)/num_workItemType))].find('MiddleColumn/DrilledPile/Diameter/Value')\n",
    "        value.text = arr[i]\n",
    "        print('設計', value.get('unit'), value.text)"
   ]
  },
  {
   "cell_type": "code",
   "execution_count": 12,
   "id": "b5cd5083",
   "metadata": {},
   "outputs": [
    {
     "name": "stdout",
     "output_type": "stream",
     "text": [
      "設計 m 5\n",
      "設計 m 5\n",
      "設計 m 7.45\n"
     ]
    }
   ],
   "source": [
    "#找樁身埋入深度\n",
    "arr = []\n",
    "for paragraph in doc.paragraphs:\n",
    "    if paragraph.text.find(\"樁身埋入深度\")!=-1:\n",
    "        arr.append(re.sub('[^0-9.]', '', paragraph.text))\n",
    "        #print(re.sub('[^0-9]', '', paragraph.text))\n",
    "for i in range(len(arr)):\n",
    "    if i%(len(arr)/num_workItemType)==0:\n",
    "        #print(arr[i])\n",
    "        value = designFile[int(i/(len(arr)/num_workItemType))].find('MiddleColumn/DrilledPile/Length/Value')\n",
    "        value.text = arr[i]\n",
    "        print('設計', value.get('unit'), value.text)"
   ]
  },
  {
   "cell_type": "code",
   "execution_count": 13,
   "id": "986a1697",
   "metadata": {},
   "outputs": [],
   "source": [
    "def writeSupFen(support,no_arr,num_arr,type_arr):\n",
    "    for i in range(len(no_arr)-2):\n",
    "        support.append( deepcopy(support[0]) )\n",
    "        i+=1\n",
    "    for i in range(len(no_arr)-1):\n",
    "        support[i].find('Layer/Value').text = no_arr[i+1]\n",
    "        support[i].find('Type/Value').text = type_arr[i+1]\n",
    "        support[i].find('Count/Value').text = num_arr[i+1]\n",
    "        i+=1"
   ]
  },
  {
   "cell_type": "code",
   "execution_count": 14,
   "id": "0e822f42",
   "metadata": {},
   "outputs": [
    {
     "name": "stdout",
     "output_type": "stream",
     "text": [
      "['支撐\\n編號', '1', '2', '3', '4', '5', '6', '7', '8']\n",
      "['支撐\\n支數', '1', '1', '2', '2', '2', '2', '1', '1']\n",
      "['支撐型號', 'H300x300x10x15', 'H400x400x13x21', 'H350x350x12x19', 'H350x350x12x19', 'H350x350x12x19', 'H350x350x12x19', 'H300x300x10x15', 'H300x300x10x15']\n",
      "['圍令\\n支數', '1', '1', '2', '2', '2', '2', '1', '1']\n",
      "['圍令型號', 'H350x350x12x19', 'H414x405x18x28', 'H350x350x12x19', 'H400x400x13x21', 'H400x400x13x21', 'H400x400x13x21', 'H350x350x12x19', 'H300x300x10x15']\n",
      "1\n",
      "['支撐\\n編號', '1', '2', '3', '4', '5', '6', '7', '8']\n",
      "['支撐\\n支數', '1', '1', '2', '2', '2', '2', '1', '1']\n",
      "['支撐型號', 'H300x300x10x15', 'H400x400x13x21', 'H350x350x12x19', 'H350x350x12x19', 'H350x350x12x19', 'H350x350x12x19', 'H300x300x10x15', 'H300x300x10x15']\n",
      "['圍令\\n支數', '1', '1', '2', '2', '2', '2', '1', '1']\n",
      "['圍令型號', 'H350x350x12x19', 'H414x405x18x28', 'H350x350x12x19', 'H400x400x13x21', 'H400x400x13x21', 'H400x400x13x21', 'H350x350x12x19', 'H300x300x10x15']\n",
      "2\n",
      "['支撐\\n編號', '1', '2', '3', '4']\n",
      "['支撐\\n支數', '1', '2', '2', '1']\n",
      "['支撐型號', 'H350x350x12x19', 'H350x350x12x19', 'H400x400x13x21', 'H350x350x12x19']\n",
      "['圍令\\n支數', '1', '2', '2', '1']\n",
      "['圍令型號', 'H350x350x12x19', 'H400x400x13x21', 'H414x405x18x28', 'H400x400x13x21']\n",
      "3\n"
     ]
    }
   ],
   "source": [
    "#找支撐\n",
    "#支撐階數\n",
    "\n",
    "count = 0\n",
    "for table in doc.tables:\n",
    "    no = []\n",
    "    num_1 = []\n",
    "    type_1 = []\n",
    "    num_2 = []\n",
    "    type_2 = []\n",
    "\n",
    "    try:\n",
    "        if table.rows[0].cells[2].text==\"支撐型號\" and table.rows[0].cells[5].text==\"圍令型號\":\n",
    "            for cell in table.columns[0].cells:\n",
    "                if cell.text == '(續)':\n",
    "                    break;\n",
    "                no.append(cell.text)\n",
    "            for cell in table.columns[1].cells:\n",
    "                if cell.text == '(續)':\n",
    "                    break;                \n",
    "                num_1.append(cell.text)\n",
    "            for cell in table.columns[2].cells:\n",
    "                if cell.text == '(續)':\n",
    "                    break;                \n",
    "                type_1.append(cell.text)\n",
    "            for cell in table.columns[4].cells:\n",
    "                if cell.text == '(續)':\n",
    "                    break;                \n",
    "                num_2.append(cell.text)\n",
    "            for cell in table.columns[5].cells:\n",
    "                if cell.text == '(續)':\n",
    "                    break;                \n",
    "                type_2.append(cell.text)                \n",
    "            print(no)\n",
    "            print(num_1)\n",
    "            print(type_1)\n",
    "            print(num_2)\n",
    "            print(type_2)\n",
    "            if count==0:\n",
    "                print(\"1\")\n",
    "                writeSupFen(designFile[count][2],no,num_1,type_1)\n",
    "                writeSupFen(designFile[count][3],no,num_2,type_2)\n",
    "            elif count==1:\n",
    "                print(\"2\")\n",
    "                writeSupFen(designFile[count][2],no,num_1,type_1)\n",
    "                writeSupFen(designFile[count][3],no,num_2,type_2)\n",
    "            elif count==2:\n",
    "                print(\"3\")\n",
    "                writeSupFen(designFile[count][2],no,num_1,type_1)\n",
    "                writeSupFen(designFile[count][3],no,num_2,type_2)\n",
    "            count += 1\n",
    "    except:\n",
    "        pass"
   ]
  },
  {
   "cell_type": "code",
   "execution_count": 15,
   "id": "9b0466e0",
   "metadata": {},
   "outputs": [],
   "source": [
    "tree.write('tree.xml')"
   ]
  },
  {
   "cell_type": "code",
   "execution_count": 16,
   "id": "f376a7ad",
   "metadata": {},
   "outputs": [],
   "source": [
    "quantityFile = root[2]"
   ]
  },
  {
   "cell_type": "code",
   "execution_count": 17,
   "id": "c0c6de20",
   "metadata": {},
   "outputs": [],
   "source": [
    "for i in range(num_workItemType):\n",
    "    sheet = excel.sheet_by_index(i)\n",
    "    tar_row = 0\n",
    "    tar_col = 0\n",
    "    value = quantityFile[i].find('Concrete/Total/Value')\n",
    "    for row in range(8,sheet.nrows):\n",
    "        for col in range(sheet.ncols):\n",
    "            if str(sheet.cell_value(row, col)).find(\"水中混凝土\")!=-1:\n",
    "                #print(sheet.cell_value(row, col))\n",
    "                tar_row = row\n",
    "                value_Str = quantityFile[i].find('Concrete/Strength/Value')\n",
    "                #print(str(sheet.cell_value(row, col)).split(value.get('unit'))[0])\n",
    "                value_Str.text = str(sheet.cell_value(row, col)).split(value_Str.get('unit'))[0]\n",
    "            if str(sheet.cell_value(row, col)).find(\"數量\")!=-1:\n",
    "                #print(sheet.cell_value(i, j))\n",
    "                tar_col = col\n",
    "    #print(str(sheet.cell_value(tar_row, tar_col)))\n",
    "    value.text = str(sheet.cell_value(tar_row, tar_col))"
   ]
  },
  {
   "cell_type": "code",
   "execution_count": 18,
   "id": "bf2890f5",
   "metadata": {},
   "outputs": [],
   "source": [
    "for i in range(num_workItemType):\n",
    "    sheet = excel.sheet_by_index(i)\n",
    "    tar_row = 0\n",
    "    tar_col = 0\n",
    "    value = quantityFile[i].find('Concrete/Length/Value')\n",
    "    for row in range(8,sheet.nrows):\n",
    "        for col in range(sheet.ncols):\n",
    "            if str(sheet.cell_value(row, col)).find(\"水中混凝土\")!=-1:\n",
    "                #print(sheet.cell_value(row, col))\n",
    "                tar_row = row\n",
    "            if str(sheet.cell_value(row, col)).find(\"設計長度\\n(m)\")!=-1:\n",
    "                #print(sheet.cell_value(row, col))\n",
    "                tar_col = col\n",
    "    #print(str(sheet.cell_value(tar_row, tar_col)))\n",
    "    value.text = str(sheet.cell_value(tar_row, tar_col))"
   ]
  },
  {
   "cell_type": "code",
   "execution_count": 19,
   "id": "bfbe78b9",
   "metadata": {},
   "outputs": [],
   "source": [
    "for i in range(num_workItemType):\n",
    "    sheet = excel.sheet_by_index(i)\n",
    "    tar_row = 0\n",
    "    tar_col = 0\n",
    "    value = quantityFile[i].find('Concrete/Depth/Value')\n",
    "    for row in range(8,sheet.nrows):\n",
    "        for col in range(sheet.ncols):\n",
    "            if str(sheet.cell_value(row, col)).find(\"水中混凝土\")!=-1:\n",
    "                #print(sheet.cell_value(row, col))\n",
    "                tar_row = row\n",
    "            if str(sheet.cell_value(row, col)).find(\"設計深度\\n(m)\")!=-1:\n",
    "                #print(sheet.cell_value(row, col))\n",
    "                tar_col = col\n",
    "    #print(str(sheet.cell_value(tar_row, tar_col)))\n",
    "    value.text = str(sheet.cell_value(tar_row, tar_col))"
   ]
  },
  {
   "cell_type": "code",
   "execution_count": 20,
   "id": "bfe5ef24",
   "metadata": {},
   "outputs": [],
   "source": [
    "for i in range(num_workItemType):\n",
    "    sheet = excel.sheet_by_index(i)\n",
    "    tar_row = 0\n",
    "    tar_col = 0\n",
    "    value = quantityFile[i].find('Concrete/Thickness/Value')\n",
    "    for row in range(8,sheet.nrows):\n",
    "        for col in range(sheet.ncols):\n",
    "            if str(sheet.cell_value(row, col)).find(\"水中混凝土\")!=-1:\n",
    "                #print(sheet.cell_value(row, col))\n",
    "                tar_row = row\n",
    "            if str(sheet.cell_value(row, col)).find(\"厚度\\n(m)\")!=-1:\n",
    "                #print(sheet.cell_value(row, col))\n",
    "                tar_col = col\n",
    "    #print(str(sheet.cell_value(tar_row, tar_col)))\n",
    "    value.text = str(sheet.cell_value(tar_row, tar_col))"
   ]
  },
  {
   "cell_type": "code",
   "execution_count": 21,
   "id": "b5c0f9dd",
   "metadata": {},
   "outputs": [],
   "source": [
    "def findSheet(excel, target):\n",
    "    targetsheet = []\n",
    "    count = 0\n",
    "    for sheet in excel.sheets():\n",
    "        if sheet.name.find(target)!=-1:\n",
    "            targetsheet.append(sheet.name)\n",
    "            print(sheet.name, count)\n",
    "        count += 1\n",
    "    return targetsheet"
   ]
  },
  {
   "cell_type": "code",
   "execution_count": 22,
   "id": "38aab023",
   "metadata": {},
   "outputs": [
    {
     "name": "stdout",
     "output_type": "stream",
     "text": [
      "LG09中間柱1(TYPE S1)(車站) 4\n",
      "LG09中間柱1(TYPE S2)(車站) 5\n",
      "LG09中間柱2(TYPE S3)(出入口) 6\n"
     ]
    }
   ],
   "source": [
    "targetsheets = findSheet(excel, \"中間柱\")"
   ]
  },
  {
   "cell_type": "code",
   "execution_count": 23,
   "id": "24d420a5",
   "metadata": {},
   "outputs": [
    {
     "name": "stdout",
     "output_type": "stream",
     "text": [
      "26.75\n",
      "26.75\n",
      "20.97\n"
     ]
    }
   ],
   "source": [
    "#施作深度\n",
    "for i in range(num_workItemType):\n",
    "    sheet = excel.sheet_by_name(targetsheets[i])\n",
    "    tar_row = 0\n",
    "    tar_col = 0\n",
    "    node = quantityFile[i].find('MiddleColumn/Length')\n",
    "    for row in range(8,sheet.nrows):\n",
    "        for col in range(sheet.ncols):\n",
    "            if str(sheet.cell_value(row, col)).find(node.get('Row'))!=-1:\n",
    "                #print(sheet.cell_value(row, col))\n",
    "                tar_row = row\n",
    "            if str(sheet.cell_value(row, col)).find(node.get('Col'))!=-1:\n",
    "                #print(sheet.cell_value(i, j))\n",
    "                tar_col = col\n",
    "    print(str(sheet.cell_value(tar_row, tar_col)))\n",
    "    node.find('Value').text = str(sheet.cell_value(tar_row, tar_col))"
   ]
  },
  {
   "cell_type": "code",
   "execution_count": 24,
   "id": "4c16f848",
   "metadata": {},
   "outputs": [
    {
     "name": "stdout",
     "output_type": "stream",
     "text": [
      "21.75\n",
      "21.75\n",
      "13.37\n"
     ]
    }
   ],
   "source": [
    "#開挖深度\n",
    "for i in range(num_workItemType):\n",
    "    sheet = excel.sheet_by_name(targetsheets[i])\n",
    "    tar_row = 0\n",
    "    tar_col = 0\n",
    "    row_first = True\n",
    "    col_first = True\n",
    "    node = quantityFile[i].find('MiddleColumn/Depth')\n",
    "    for row in range(8,sheet.nrows):\n",
    "        for col in range(sheet.ncols):\n",
    "            if str(sheet.cell_value(row, col)).find(node.get('Row'))!=-1 and row_first:\n",
    "                #print(sheet.cell_value(row, col))\n",
    "                tar_row = row\n",
    "                row_first = False\n",
    "            if str(sheet.cell_value(row, col)).find(node.get('Col'))!=-1 and col_first:\n",
    "                #print(sheet.cell_value(i, j))\n",
    "                tar_col = col\n",
    "                col_first = False\n",
    "    print(str(sheet.cell_value(tar_row, tar_col)))\n",
    "    node.find('Value').text = str(sheet.cell_value(tar_row, tar_col))"
   ]
  },
  {
   "cell_type": "code",
   "execution_count": 25,
   "id": "b4a17350",
   "metadata": {},
   "outputs": [
    {
     "name": "stdout",
     "output_type": "stream",
     "text": [
      "H400x400x13x21\n",
      "H400x400x13x21\n",
      "H400x400x13x21\n"
     ]
    }
   ],
   "source": [
    "for i in range(num_workItemType):\n",
    "    sheet = excel.sheet_by_name(targetsheets[i])\n",
    "    tar_row = 0\n",
    "    tar_col = 0\n",
    "    node = quantityFile[i].find('MiddleColumn/Steel/Type')\n",
    "#     value = quantityFile[i].find('MiddleColumn/Steel/Type/Value')\n",
    "    for row in range(8,sheet.nrows):\n",
    "        for col in range(sheet.ncols):\n",
    "            if str(sheet.cell_value(row, col)).find(node.get('Row'))!=-1:\n",
    "                #print(sheet.cell_value(row, col))\n",
    "                tar_row = row\n",
    "            if str(sheet.cell_value(row, col)).find(node.get('Col'))!=-1:\n",
    "                #print(sheet.cell_value(i, j))\n",
    "                tar_col = col\n",
    "    print(str(sheet.cell_value(tar_row, tar_col)))\n",
    "#     print(node.get('Row'), node.get('Col'))\n",
    "    node.find('Value').text = str(sheet.cell_value(tar_row, tar_col))"
   ]
  },
  {
   "cell_type": "code",
   "execution_count": 26,
   "id": "0617add5",
   "metadata": {},
   "outputs": [
    {
     "name": "stdout",
     "output_type": "stream",
     "text": [
      "2.5\n",
      "2.5\n",
      "2.5\n"
     ]
    }
   ],
   "source": [
    "#型鋼長度\n",
    "for i in range(num_workItemType):\n",
    "    sheet = excel.sheet_by_name(targetsheets[i])\n",
    "    tar_row = 0\n",
    "    tar_col = 0\n",
    "    row_first = True\n",
    "    col_first = True\n",
    "    node = quantityFile[i].find('MiddleColumn/Steel/Length')\n",
    "    for row in range(8,sheet.nrows):\n",
    "        for col in range(sheet.ncols):\n",
    "            if str(sheet.cell_value(row, col)).find(node.get('Row'))!=-1 and row_first:\n",
    "                #print(sheet.cell_value(row, col))\n",
    "                tar_row = row\n",
    "                row_first = False\n",
    "            if str(sheet.cell_value(row, col)).find(node.get('Col'))!=-1 and col_first:\n",
    "                #print(sheet.cell_value(i, j))\n",
    "                tar_col = col\n",
    "                col_first = False\n",
    "    print(str(sheet.cell_value(tar_row, tar_col)))\n",
    "    node.find('Value').text = str(sheet.cell_value(tar_row, tar_col))"
   ]
  },
  {
   "cell_type": "code",
   "execution_count": 27,
   "id": "195c454c",
   "metadata": {},
   "outputs": [
    {
     "name": "stdout",
     "output_type": "stream",
     "text": [
      "100.0\n",
      "100.0\n",
      "100.0\n"
     ]
    }
   ],
   "source": [
    "#鑽掘樁直徑\n",
    "for i in range(num_workItemType):\n",
    "    sheet = excel.sheet_by_name(targetsheets[i])\n",
    "    tar_row = 0\n",
    "    tar_col = 0\n",
    "    row_first = True\n",
    "    col_first = True\n",
    "    node = quantityFile[i].find('MiddleColumn/DrilledPile/Diameter')\n",
    "    for row in range(8,sheet.nrows):\n",
    "        for col in range(sheet.ncols):\n",
    "            if str(sheet.cell_value(row, col)).find(node.get('Row'))!=-1 and row_first:\n",
    "                #print(sheet.cell_value(row, col))\n",
    "                tar_row = row\n",
    "                row_first = False\n",
    "            if str(sheet.cell_value(row, col)).find(node.get('Col'))!=-1 and col_first:\n",
    "                #print(sheet.cell_value(i, j))\n",
    "                tar_col = col\n",
    "                col_first = False\n",
    "    print(str(int(re.sub('[^0-9.]', '', sheet.cell_value(tar_row, tar_col)))/10))\n",
    "    node.find('Value').text = str(int(re.sub('[^0-9.]', '', sheet.cell_value(tar_row, tar_col)))/10)"
   ]
  },
  {
   "cell_type": "code",
   "execution_count": 28,
   "id": "cd264382",
   "metadata": {},
   "outputs": [
    {
     "name": "stdout",
     "output_type": "stream",
     "text": [
      "5.0\n",
      "5.0\n",
      "7.6\n"
     ]
    }
   ],
   "source": [
    "#樁身埋入深度\n",
    "for i in range(num_workItemType):\n",
    "    sheet = excel.sheet_by_name(targetsheets[i])\n",
    "    tar_row = 0\n",
    "    tar_col = 0\n",
    "    row_first = True\n",
    "    col_first = True\n",
    "    node = quantityFile[i].find('MiddleColumn/DrilledPile/Length')\n",
    "    for row in range(8,sheet.nrows):\n",
    "        for col in range(sheet.ncols):\n",
    "            if str(sheet.cell_value(row, col)).find(node.get('Row'))!=-1 and row_first:\n",
    "                #print(sheet.cell_value(row, col))\n",
    "                tar_row = row\n",
    "                row_first = False\n",
    "            if str(sheet.cell_value(row, col)).find(node.get('Col'))!=-1 and col_first:\n",
    "                #print(sheet.cell_value(i, j))\n",
    "                tar_col = col\n",
    "                col_first = False\n",
    "    print(str(sheet.cell_value(tar_row, tar_col)))\n",
    "    node.find('Value').text = str(sheet.cell_value(tar_row, tar_col))"
   ]
  },
  {
   "cell_type": "code",
   "execution_count": 29,
   "id": "2744a7d4",
   "metadata": {},
   "outputs": [
    {
     "name": "stdout",
     "output_type": "stream",
     "text": [
      "LG09支撐 3\n",
      "LG09支撐混凝土版 13\n"
     ]
    }
   ],
   "source": [
    "targetsheets = findSheet(excel, \"支撐\")"
   ]
  },
  {
   "cell_type": "code",
   "execution_count": 30,
   "id": "c0f9b0eb",
   "metadata": {},
   "outputs": [],
   "source": [
    "def writeSupFenQuantity(support,total_arr,no_arr,num_arr,type_arr,unitWeight_arr,length_arr):\n",
    "    for i in range(len(no_arr)-1):\n",
    "        print(len(no_arr))\n",
    "        support.append( deepcopy(support[0]) )\n",
    "        i+=1\n",
    "    for i in range(len(no_arr)):\n",
    "        support[i].find('Total/Value').text = str(format(total_arr[i], '.1f'))\n",
    "        support[i].find('Layer/Value').text = str(no_arr[i])\n",
    "        support[i].find('Type/Value').text = str(type_arr[i])\n",
    "        support[i].find('Count/Value').text = str(num_arr[i])\n",
    "        support[i].find('UnitWeight/Value').text = str(format(unitWeight_arr[i], '.3f'))\n",
    "        support[i].find('Length/Value').text = str(format(length_arr[i], '.1f'))\n",
    "        i+=1"
   ]
  },
  {
   "cell_type": "code",
   "execution_count": 31,
   "id": "6a3def4a",
   "metadata": {},
   "outputs": [
    {
     "name": "stdout",
     "output_type": "stream",
     "text": [
      "[[0, 1], [2]]\n",
      "WorkItemType 0\n",
      "8\n",
      "8\n",
      "8\n",
      "8\n",
      "8\n",
      "8\n",
      "8\n",
      "[83.51786057699591, 152.55336873478933, 242.55719082467965, 242.55719082467965, 242.55719082467965, 242.55719082467965, 78.44186057699591, 78.44186057699591]\n",
      "[1.0, 2.0, 3.0, 4.0, 5.0, 6.0, 7.0, 8.0]\n",
      "['1', '1', '2', '2', '2', '2', '1', '1']\n",
      "['H300x300x10x15', 'H400x400x13x21', 'H350x350x12x19', 'H350x350x12x19', 'H350x350x12x19', 'H350x350x12x19', 'H300x300x10x15', 'H300x300x10x15']\n",
      "[0.094, 0.1717, 0.273, 0.273, 0.273, 0.273, 0.094, 0.094]\n",
      "[888.4878784786799, 888.4878784786799, 888.4878784786799, 888.4878784786799, 888.4878784786799, 888.4878784786799, 834.4878784786799, 834.4878784786799]\n",
      "WorkItemType 2\n",
      "4\n",
      "4\n",
      "4\n",
      "[18.018, 36.036, 45.3288, 18.018]\n",
      "[1.0, 2.0, 3.0, 4.0]\n",
      "['1', '2', '2', '1']\n",
      "['H350x350x12x19', 'H350x350x12x19', 'H400x400x13x21', 'H350x350x12x19']\n",
      "[0.1365, 0.273, 0.3434, 0.1365]\n",
      "[132.0, 132.0, 132.0, 132.0]\n"
     ]
    }
   ],
   "source": [
    "sheet = excel.sheet_by_name(targetsheets[0])\n",
    "tar_row = []\n",
    "tar_col = [3,4,5,6,7]\n",
    "group_arr = []\n",
    "\n",
    "#node = quantityFile[i].find('SupportGroup/Support/Total')\n",
    "for row in range(8,sheet.nrows):\n",
    "    if str(sheet.cell_value(row, 1)).find('支撐')!=-1:\n",
    "    #print(sheet.cell_value(row, col))\n",
    "        tar_row.append(row)\n",
    "if len(tar_row) != num_workItemType:\n",
    "    ln = ast.literal_eval(input(\"Please input the Group Array(ex:[[0,1],[2]]):\"))\n",
    "    while(len(ln) != len(tar_row)):\n",
    "        ln = ast.literal_eval(input(\"Not match, please input the Group Array again(ex:[[0,1],[2]]):\"))\n",
    "    group_arr = ln    \n",
    "print(group_arr)\n",
    "# print(tar_row)\n",
    "count = 0\n",
    "for row in tar_row:\n",
    "#     print(sheet.cell_value(row+1, col))\n",
    "    total = []\n",
    "    no = []\n",
    "    num = []\n",
    "    Type = []\n",
    "    unitWeight = []\n",
    "    length = []\n",
    "    WorkItemType = group_arr[count][0]\n",
    "    print('WorkItemType', WorkItemType)\n",
    "    for i in range(row+1,sheet.nrows):\n",
    "        if sheet.cell_value(i,4) != '':\n",
    "            total.append(sheet.cell_value(i,3))\n",
    "            no.append(sheet.cell_value(i,4))\n",
    "            num.append(sheet.cell_value(i,5)[0])\n",
    "            Type.append(sheet.cell_value(i,5)[1:])\n",
    "            unitWeight.append(sheet.cell_value(i,6))\n",
    "            length.append(sheet.cell_value(i,7))\n",
    "        else:\n",
    "            break;\n",
    "    writeSupFenQuantity(quantityFile[int(WorkItemType)][4],total,no,num,Type,unitWeight,length)\n",
    "    count += 1\n",
    "#     writeSupFenQuantity(designFile[count][3],no,num_2,type_2)\n",
    "    print(total)\n",
    "    print(no)\n",
    "    print(num)\n",
    "    print(Type)\n",
    "    print(unitWeight)\n",
    "    print(length)"
   ]
  },
  {
   "cell_type": "code",
   "execution_count": 32,
   "id": "7000611f",
   "metadata": {},
   "outputs": [
    {
     "name": "stdout",
     "output_type": "stream",
     "text": [
      "WorkItemType 0\n",
      "8\n",
      "8\n",
      "8\n",
      "8\n",
      "8\n",
      "8\n",
      "8\n",
      "[61.179300000000005, 103.93758, 153.91188, 207.87516, 207.87516, 207.87516, 61.179300000000005, 42.1308]\n",
      "[1.0, 2.0, 3.0, 4.0, 5.0, 6.0, 7.0, 8.0]\n",
      "['1', '1', '2', '2', '2', '2', '1', '1']\n",
      "['H350x350x12x19', 'H414x405x18x28', 'H400x400x13x21', 'H414x405x18x28', 'H414x405x18x28', 'H414x405x18x28', 'H350x350x12x19', 'H300x300x10x15 ']\n",
      "[0.1365, 0.2319, 0.3434, 0.4638, 0.4638, 0.4638, 0.1365, 0.094]\n",
      "[448.2, 448.2, 448.2, 448.2, 448.2, 448.2, 448.2, 448.2]\n",
      "WorkItemType 2\n",
      "4\n",
      "4\n",
      "4\n",
      "[25.01669, 67.57566000000001, 67.57566000000001, 67.57566000000001]\n",
      "[1.0, 2.0, 3.0, 4.0]\n",
      "['1', '2', '2', '2']\n",
      "['H400x400x13x21', 'H414x405x18x28', 'H414x405x18x28', 'H414x405x18x28']\n",
      "[0.1717, 0.4638, 0.4638, 0.4638]\n",
      "[145.70000000000002, 145.70000000000002, 145.70000000000002, 145.70000000000002]\n"
     ]
    }
   ],
   "source": [
    "tar_row = []\n",
    "\n",
    "for row in range(8,sheet.nrows):\n",
    "    if str(sheet.cell_value(row, 1)).find('橫擋')!=-1:\n",
    "        tar_row.append(row)\n",
    "\n",
    "count = 0\n",
    "for row in tar_row:\n",
    "#     print(sheet.cell_value(row+1, col))\n",
    "    total = []\n",
    "    no = []\n",
    "    num = []\n",
    "    Type = []\n",
    "    unitWeight = []\n",
    "    length = []\n",
    "    WorkItemType = group_arr[count][0]\n",
    "    print('WorkItemType', WorkItemType)\n",
    "    for i in range(row+1,sheet.nrows):\n",
    "        if sheet.cell_value(i,4) != '':\n",
    "            total.append(sheet.cell_value(i,3))\n",
    "            no.append(sheet.cell_value(i,4))\n",
    "            num.append(sheet.cell_value(i,5)[0])\n",
    "            Type.append(sheet.cell_value(i,5)[1:])\n",
    "            unitWeight.append(sheet.cell_value(i,6))\n",
    "            length.append(sheet.cell_value(i,7))\n",
    "        else:\n",
    "            break;\n",
    "    writeSupFenQuantity(quantityFile[int(WorkItemType)][5],total,no,num,Type,unitWeight,length)\n",
    "    count += 1\n",
    "#     writeSupFenQuantity(designFile[count][3],no,num_2,type_2)\n",
    "    print(total)\n",
    "    print(no)\n",
    "    print(num)\n",
    "    print(Type)\n",
    "    print(unitWeight)\n",
    "    print(length)"
   ]
  },
  {
   "cell_type": "code",
   "execution_count": 33,
   "id": "b57adf96",
   "metadata": {},
   "outputs": [],
   "source": [
    "tree.write('tree.xml')"
   ]
  },
  {
   "cell_type": "code",
   "execution_count": 40,
   "id": "02773eae",
   "metadata": {},
   "outputs": [],
   "source": [
    "prefix = '{http://pcstd.pcc.gov.tw/2003/eTender}'\n",
    "\n",
    "def find_amount(key, root):\n",
    "    try:\n",
    "        return root.find(f\"File/[@Description='數量計算書']/WorkItemType[@Description='TYPE S1']/{key}/Value\").text\n",
    "    except:\n",
    "        # print(f\"File/[@Description='數量計算書']/WorkItemType[@Description='TYPE S1']/{key}/Value\")\n",
    "        return 0\n",
    "\n",
    "def find_budget(target, root):\n",
    "    # exclude special case\n",
    "    if target[0] == '' or target[0] == '*':\n",
    "        return find_budget_in(target, root)\n",
    "\n",
    "    # common case\n",
    "    if target[0] == 'DetailList':\n",
    "        xpath = f\"{prefix+target[0]}/{prefix}PayItem/{prefix}PayItem/[{prefix}Description='{target[1]}']/{prefix}Quantity\"\n",
    "        \n",
    "    elif target[0] == 'CostBreakdownList':\n",
    "        xpath = f\"{prefix+target[0]}/\"\n",
    "        for i in range(len(target) - 1):\n",
    "            xpath += f\"{prefix}WorkItem/[{prefix}Description='{target[i + 1]}']/\"\n",
    "        xpath += f\"{prefix}Quantity\"\n",
    "\n",
    "    return root.find(xpath).text\n",
    "\n",
    "# target value is in item\n",
    "def find_budget_in(target, root):\n",
    "    tag = target.pop(0)\n",
    "    keyword = target.pop(-3)\n",
    "    front = target.pop(-2) # keyword2\n",
    "    back = target.pop(-1)\n",
    "    is_pass = 1\n",
    "    \n",
    "    # if same item name\n",
    "    if tag == '*':\n",
    "        is_pass = 0\n",
    "\n",
    "    if target[0] == 'DetailList':\n",
    "        xpath = f\"{prefix+target[0]}/{prefix}PayItem/{prefix}PayItem\"\n",
    "    \n",
    "    elif target[0] == 'CostBreakdownList':\n",
    "        xpath = f\"{prefix+target[0]}/\"\n",
    "        for i in range(len(target) - 1):\n",
    "            xpath += f\"{prefix}WorkItem/[{prefix}Description='{target[i + 1]}']/\"\n",
    "    \n",
    "    find = root.findall(xpath)\n",
    "    for f in find:\n",
    "        for ff in f:\n",
    "            if all(k in ff.text for k in keyword.split(',')):\n",
    "                if tag != '*':\n",
    "                    return find_number(ff.text, front, back)\n",
    "                is_pass = 1\n",
    "\n",
    "            # if found keyword in description, return the next item with keyword2(front)\n",
    "            if front in ff.text and is_pass and tag == '*':\n",
    "                return f.find(f\"{prefix}Quantity\").text\n",
    "\n",
    "def find_number(value, front, back):\n",
    "    return value.split(front)[-1].split(back)[0]\n",
    "\n",
    "def compare(key, compare_dict, amount_root, budget_root):\n",
    "    target_value = find_amount(key, amount_root)\n",
    "    budget_value = find_budget(compare_dict[key], budget_root)\n",
    "    delta = abs(round(float(target_value)) - round(float(budget_value))) < 0.1\n",
    "    return key, target_value, budget_value, delta"
   ]
  },
  {
   "cell_type": "code",
   "execution_count": 51,
   "id": "a84680d3",
   "metadata": {},
   "outputs": [],
   "source": [
    "def main():\n",
    "    amount_path = 'tree.xml'\n",
    "    budget_path = 'data/CQ881標土建工程CQ881-11-04_bp_rbid.xml'\n",
    "    output_path = 'output.csv'\n",
    "\n",
    "    # f = open(output_path, 'w')\n",
    "    # writer = csv.writer(f)\n",
    "\n",
    "    amount_root = ET.parse(amount_path).getroot()\n",
    "    budget_root = ET.parse(budget_path).getroot()\n",
    "\n",
    "    compare_dict = {\n",
    "        'Concrete/Total': ['DetailList', '連續壁，(含導溝，厚100cm)，TYPE S1'],\n",
    "        'Concrete/Thickness': ['', 'DetailList', '連續壁，(含導溝,TYPE S1', '厚', 'cm'],\n",
    "        'Concrete/Strength': ['', 'CostBreakdownList', '連續壁，(含導溝，厚100cm)，TYPE S1', '產品，預拌混凝土材料費', '材料費，', 'kgf/cm2'],\n",
    "        \n",
    "        'GuideWall/Total': ['CostBreakdownList', '連續壁，(含導溝，厚100cm)，TYPE S1', '產品，預拌混凝土材料費，210kgf/cm2，第1型水泥'],\n",
    "        'RebarCage/Rebar/Total': ['CostBreakdownList', '連續壁，(含導溝，厚100cm)，TYPE S1', '產品，鋼筋，SD420W'],\n",
    "        'EndPanel/Total': ['CostBreakdownList', '連續壁，(含導溝，厚100cm)，TYPE S1', '產品，金屬材料，鋼料，末端板，分隔板'],\n",
    "        \n",
    "        'SupportGroup/SteelWeight': ['CostBreakdownList', '開挖支撐及保護，LG09站', '臨時擋土支撐工法，支撐系統之型鋼組立'],\n",
    "        'SupportGroup/SteelWeight2': ['CostBreakdownList', '開挖支撐及保護，LG09站', '臨時擋土支撐工法，支撐系統之型鋼拆除'],\n",
    "        'SupportGroup/Support/Count': ['CostBreakdownList', '開挖支撐及保護，LG09站', '全套管式鑽掘混凝土基樁，D=1000mm，施作深度27公尺，實作深度5公尺'],\n",
    "        \n",
    "        'MiddleColumn/Depth': ['*', 'CostBreakdownList', '開挖支撐及保護，LG09站', '中間樁(柱)', '臨時擋土支撐工法，支撐系統之型鋼拆除', ''],\n",
    "        'MiddleColumn/Steel/Length': ['CostBreakdownList', '開挖支撐及保護，LG09站', '產品，結構用鋼材，H型鋼'],\n",
    "        'MiddleColumn/DrilledPile/Diameter': ['', 'CostBreakdownList', '開挖支撐及保護，LG09站', '全套管式鑽掘混凝土基樁', 'D=', 'mm'],\n",
    "        'MiddleColumn/Length': ['', 'CostBreakdownList', '開挖支撐及保護，LG09站', '全套管式鑽掘混凝土基樁', '施作深度', '公尺'],\n",
    "        'MiddleColumn/DrilledPile/Length': ['', 'CostBreakdownList', '開挖支撐及保護，LG09站', '全套管式鑽掘混凝土基樁', '實作深度', '公尺'],\n",
    "        'MiddleColumn/DrilledPile/Strength': ['', 'CostBreakdownList', '開挖支撐及保護，LG09站', '全套管式鑽掘混凝土基樁，D=1000mm，施作深度27公尺，實作深度5公尺', '產品，預拌混凝土材料費', '材料費，', 'kgf/cm2'],\n",
    "        'MiddleColumn/DrilledPile/SteelCageWeight': ['CostBreakdownList', '開挖支撐及保護，LG09站', '全套管式鑽掘混凝土基樁，D=1000mm，施作深度27公尺，實作深度5公尺', '產品，鋼筋，SD420W'],\n",
    "    }\n",
    "\n",
    "    for key in list(compare_dict.keys()):\n",
    "        key, target_value, budget_value, delta = compare(key, compare_dict, amount_root, budget_root)\n",
    "        compare_dict[key] = [target_value, budget_value, delta]\n",
    "\n",
    "    return compare_dict"
   ]
  },
  {
   "cell_type": "code",
   "execution_count": 52,
   "id": "43aacc0f",
   "metadata": {},
   "outputs": [],
   "source": [
    "compare_dict = main()"
   ]
  },
  {
   "cell_type": "code",
   "execution_count": 56,
   "id": "f3be8ff5",
   "metadata": {},
   "outputs": [],
   "source": [
    "with open('./report.csv', 'w', encoding='UTF8', newline='') as f:\n",
    "    writer = csv.writer(f)\n",
    "    writer.writerow([\"項目\",\"設計計算書\",\"值\",\"數量計算書\",\"值\",\"預算書\",\"值\",\"是否一致\"])\n",
    "    for i in range(num_workItemType):\n",
    "        value_design = designFile[i].find('Concrete/Strength/Value')\n",
    "        value_quantity = quantityFile[i].find('Concrete/Strength/Value')\n",
    "        value_budget = compare_dict['Concrete/Strength'][1]\n",
    "        writer.writerow(['混凝土強度','TYPE S'+str(i+1),value_design.text,'TYPE S'+str(i+1),value_quantity.text,'TYPE S'+str(i+1),value_budget,str(float(value_design.text)+35==float(value_quantity.text))])\n",
    "    \n",
    "    for i in range(num_workItemType):\n",
    "        value_design = designFile[i].find('Concrete/Depth/Value')\n",
    "        value_quantity = quantityFile[i].find('Concrete/Depth/Value')\n",
    "        writer.writerow(['混凝土深度','TYPE S'+str(i+1),value_design.text,'TYPE S'+str(i+1),value_quantity.text,str(float(value_design.text)==float(value_quantity.text))])\n",
    "    \n",
    "    for i in range(num_workItemType):\n",
    "        value_design = designFile[i].find('Concrete/Thickness/Value')\n",
    "        value_quantity = quantityFile[i].find('Concrete/Thickness/Value')\n",
    "        value_budget = compare_dict['Concrete/Thickness'][1]\n",
    "        writer.writerow(['混凝土厚度','TYPE S'+str(i+1),value_design.text,'TYPE S'+str(i+1),value_quantity.text,'TYPE S'+str(i+1),value_budget,str(float(value_design.text)==float(value_quantity.text))])\n",
    "    \n",
    "    for i in range(num_workItemType):\n",
    "        value_design = designFile[i].find('MiddleColumn/Length/Value')\n",
    "        value_quantity = quantityFile[i].find('MiddleColumn/Length/Value')\n",
    "        value_budget = compare_dict['MiddleColumn/Length'][1]\n",
    "        writer.writerow(['中間柱長度','TYPE S'+str(i+1),value_design.text,'TYPE S'+str(i+1),value_quantity.text,'TYPE S'+str(i+1),value_budget,str(float(value_design.text)==float(value_quantity.text))])\n",
    "    \n",
    "    for i in range(num_workItemType):\n",
    "        value_design = designFile[i].find('MiddleColumn/Depth/Value')\n",
    "        value_quantity = quantityFile[i].find('MiddleColumn/Depth/Value')\n",
    "        value_budget = compare_dict['MiddleColumn/Depth'][1]\n",
    "        writer.writerow(['開挖深度','TYPE S'+str(i+1),value_design.text,'TYPE S'+str(i+1),value_quantity.text,'TYPE S'+str(i+1),value_budget,str(float(value_design.text)==float(value_quantity.text))])\n",
    "    \n",
    "    for i in range(num_workItemType):\n",
    "        value_design = designFile[i].find('MiddleColumn/Steel/Type/Value')\n",
    "        value_quantity = quantityFile[i].find('MiddleColumn/Steel/Type/Value')\n",
    "        writer.writerow(['型鋼尺寸','TYPE S'+str(i+1),value_design.text,'TYPE S'+str(i+1),value_quantity.text,str(value_design.text==value_quantity.text)])\n",
    "    \n",
    "    for i in range(num_workItemType):\n",
    "        value_design = float(designFile[i].find('MiddleColumn/Steel/Length/Value').text)\n",
    "        value_quantity = float(quantityFile[i].find('MiddleColumn/Steel/Length/Value').text) + float(quantityFile[i].find('MiddleColumn/Depth/Value').text)\n",
    "        value_budget = compare_dict['MiddleColumn/Steel/Length'][1]\n",
    "        writer.writerow(['型鋼長度','TYPE S'+str(i+1),value_design,'TYPE S'+str(i+1),value_quantity,'TYPE S'+str(i+1),value_budget,value_design==value_quantity])\n",
    "    \n",
    "    for i in range(len(group_arr)):\n",
    "        for j in range(len(designFile[group_arr[i][0]].find('SupportGroup').findall('Support'))):\n",
    "            designSup = designFile[group_arr[i][0]].find('SupportGroup')[j]\n",
    "            quantitySup = quantityFile[group_arr[i][0]].find('SupportGroup')[j]\n",
    "            writer.writerow(['支撐層次','TYPE S'+str(group_arr[i][0]+1),designSup.find('Layer/Value').text,'TYPE S'+str(group_arr[i][0]+1),quantitySup.find('Layer/Value').text,float(designSup.find('Layer/Value').text)==float(quantitySup.find('Layer/Value').text)])\n",
    "            writer.writerow(['支撐桿件','TYPE S'+str(group_arr[i][0]+1),designSup.find('Type/Value').text,'TYPE S'+str(group_arr[i][0]+1),quantitySup.find('Type/Value').text,designSup.find('Type/Value').text==quantitySup.find('Type/Value').text])\n",
    "            writer.writerow(['支撐支數','TYPE S'+str(group_arr[i][0]+1),designSup.find('Count/Value').text,'TYPE S'+str(group_arr[i][0]+1),quantitySup.find('Count/Value').text,float(designSup.find('Count/Value').text)==float(quantitySup.find('Count/Value').text)])"
   ]
  },
  {
   "cell_type": "code",
   "execution_count": null,
   "id": "8898d331",
   "metadata": {},
   "outputs": [],
   "source": []
  }
 ],
 "metadata": {
  "kernelspec": {
   "display_name": "detectron2",
   "language": "python",
   "name": "python3"
  },
  "language_info": {
   "codemirror_mode": {
    "name": "ipython",
    "version": 3
   },
   "file_extension": ".py",
   "mimetype": "text/x-python",
   "name": "python",
   "nbconvert_exporter": "python",
   "pygments_lexer": "ipython3",
   "version": "3.6.9"
  },
  "vscode": {
   "interpreter": {
    "hash": "7d04fc2b2badf5fb5f14ff0dbcd593a3017fb061fa309f870057f6bd724829e1"
   }
  }
 },
 "nbformat": 4,
 "nbformat_minor": 5
}
